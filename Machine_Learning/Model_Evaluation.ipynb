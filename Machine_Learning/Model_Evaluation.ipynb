{
 "cells": [
  {
   "cell_type": "markdown",
   "metadata": {},
   "source": [
    "# Exercício 2\n",
    "* O uso do PCA melhorou o Recall?\n",
    "* O uso de seleção de atributos melhorou o Recall?\n",
    "* Plote a curva ROC do seu algoritmo original, com PCA e com seleção de atributos, no mesmo gráfico"
   ]
  },
  {
   "cell_type": "code",
   "execution_count": 1,
   "metadata": {},
   "outputs": [],
   "source": [
    "from sklearn.model_selection import train_test_split\n",
    "from sklearn.metrics import accuracy_score\n",
    "from sklearn.model_selection import GridSearchCV\n",
    "from sklearn.neighbors import KNeighborsClassifier\n",
    "from sklearn.datasets import load_breast_cancer\n",
    "from sklearn.decomposition import PCA\n",
    "from sklearn.linear_model import LogisticRegression\n",
    "from sklearn.preprocessing import StandardScaler\n",
    "from sklearn.feature_selection import SelectKBest\n",
    "from sklearn.feature_selection import f_classif\n",
    "from sklearn.metrics import confusion_matrix\n",
    "import numpy as np\n",
    "import seaborn as sns\n",
    "from sklearn.metrics import roc_curve, auc\n",
    "import matplotlib.pyplot as plt\n",
    "from statsmodels.stats.contingency_tables import mcnemar\n",
    "\n",
    "import warnings\n",
    "warnings.filterwarnings('ignore')"
   ]
  },
  {
   "cell_type": "code",
   "execution_count": 2,
   "metadata": {},
   "outputs": [],
   "source": [
    "bc = load_breast_cancer()\n",
    "\n",
    "data = bc.data\n",
    "target = bc.target"
   ]
  },
  {
   "cell_type": "code",
   "execution_count": 3,
   "metadata": {},
   "outputs": [
    {
     "name": "stdout",
     "output_type": "stream",
     "text": [
      "y_pred = 94.0 %\n"
     ]
    }
   ],
   "source": [
    "#Acurácia inicial\n",
    "X_train, X_test, y_train, y_test = train_test_split(data, target, test_size=0.33, random_state=42, shuffle = True)\n",
    "\n",
    "knn = KNeighborsClassifier(n_neighbors=3)\n",
    "\n",
    "knn.fit(X_train, y_train)\n",
    "\n",
    "y_pred = knn.predict(X_test)\n",
    "#print(y_pred)\n",
    "#print(y_train)\n",
    "\n",
    "\n",
    "\n",
    "print('y_pred =', round(accuracy_score(y_test, y_pred),2)*100,'%')"
   ]
  },
  {
   "cell_type": "code",
   "execution_count": 4,
   "metadata": {},
   "outputs": [
    {
     "name": "stdout",
     "output_type": "stream",
     "text": [
      "0.92904989747095\n",
      "KNeighborsClassifier(algorithm='ball_tree', leaf_size=1, metric='manhattan',\n",
      "                     metric_params=None, n_jobs=None, n_neighbors=6, p=2,\n",
      "                     weights='uniform')\n",
      "{'algorithm': 'ball_tree', 'leaf_size': 1, 'metric': 'manhattan', 'n_neighbors': 6, 'weights': 'uniform'}\n"
     ]
    }
   ],
   "source": [
    "#GridSearch\n",
    "from sklearn.model_selection import GridSearchCV\n",
    "grid_params = {\n",
    "    'n_neighbors': [3, 5, 6, 7, 8, 9, 10],\n",
    "    'weights': ['uniform', 'distance'],\n",
    "    'metric': ['euclidean', 'manhattan', 'chebyshev'],\n",
    "    'algorithm': ['ball_tree', 'kd_tree'],\n",
    "    'leaf_size' : [1,2,3,4,5, 10, 20, 30, 40, 50, 60, 70, 80, 90, 100]\n",
    "}\n",
    "\n",
    "knn = KNeighborsClassifier(n_neighbors=3)\n",
    "\n",
    "gs = GridSearchCV(knn, grid_params, cv=5, n_jobs=1)\n",
    "\n",
    "gs_results = gs.fit(X_train, y_train)\n",
    "\n",
    "print(gs_results.best_score_)\n",
    "print(gs_results.best_estimator_)\n",
    "print(gs_results.best_params_)"
   ]
  },
  {
   "cell_type": "code",
   "execution_count": 5,
   "metadata": {},
   "outputs": [],
   "source": [
    "knn = KNeighborsClassifier(algorithm='ball_tree', leaf_size= 1, metric='manhattan', n_neighbors=6, weights='uniform')\n",
    "knn.fit(X_train, y_train)\n",
    "\n",
    "y_pred = knn.predict(X_test)"
   ]
  },
  {
   "cell_type": "code",
   "execution_count": 6,
   "metadata": {},
   "outputs": [
    {
     "name": "stdout",
     "output_type": "stream",
     "text": [
      "Acurácia: 0.9787234042553191\n"
     ]
    }
   ],
   "source": [
    "# avaliando o modelo com o scikit-learn\n",
    "from sklearn.metrics import accuracy_score\n",
    "print('Acurácia:', accuracy_score(y_test, y_pred))"
   ]
  },
  {
   "cell_type": "code",
   "execution_count": 7,
   "metadata": {},
   "outputs": [
    {
     "name": "stdout",
     "output_type": "stream",
     "text": [
      "[[ 66   1]\n",
      " [  3 118]]\n",
      "---\n",
      "VP: 118\n",
      "FP: 1\n",
      "VN: 66\n",
      "FN: 3\n"
     ]
    }
   ],
   "source": [
    "# calculando a matriz utilizando scikit-learn\n",
    "from sklearn.metrics import confusion_matrix\n",
    "print(confusion_matrix(y_test, y_pred))\n",
    "\n",
    "print('---')\n",
    "\n",
    "# obtendo os resultados com scikit-learn\n",
    "vn, fp, fn, vp = confusion_matrix(y_test, y_pred).ravel()\n",
    "print('VP:', vp)\n",
    "print('FP:', fp)\n",
    "print('VN:', vn)\n",
    "print('FN:', fn)"
   ]
  },
  {
   "cell_type": "code",
   "execution_count": 8,
   "metadata": {},
   "outputs": [
    {
     "name": "stdout",
     "output_type": "stream",
     "text": [
      "ACC=  0.9787234042553191\n",
      "P=  0.9915966386554622\n",
      "R_antes=  0.9752066115702479\n",
      "F=  0.9833333333333334\n"
     ]
    }
   ],
   "source": [
    "#Calculando Acuracidade, Precisão, recall e f-1 score\n",
    "\n",
    "def Resultados_antes_pca (VP, FP, VN, FN):\n",
    "    ACC = (VP+VN) / (VP+FP+VN+FN)\n",
    "    P = VP/(VP+FP)\n",
    "    R = VP/(VP+FN)\n",
    "    F = 2*(P*R/(P+R))\n",
    "    \n",
    "    print('ACC= ',ACC)\n",
    "    print('P= ',P)\n",
    "    print('R_antes= ',R)\n",
    "    print('F= ',F)\n",
    "    \n",
    "Resultados_antes_pca(vp,fp,vn,fn)"
   ]
  },
  {
   "cell_type": "markdown",
   "metadata": {},
   "source": [
    "### Recall com dados originais = 0.97521"
   ]
  },
  {
   "cell_type": "markdown",
   "metadata": {},
   "source": [
    "## APLICAÇÃO PCA"
   ]
  },
  {
   "cell_type": "code",
   "execution_count": 9,
   "metadata": {},
   "outputs": [],
   "source": [
    "bc_pca = load_breast_cancer()\n",
    "\n",
    "data_2 = bc_pca.data\n",
    "target_2 = bc_pca.target"
   ]
  },
  {
   "cell_type": "code",
   "execution_count": 10,
   "metadata": {},
   "outputs": [],
   "source": [
    "X_train_2, X_test_2, y_train_2, y_test_2 = train_test_split(data_2, target_2, test_size=0.33, random_state=42, shuffle = True)"
   ]
  },
  {
   "cell_type": "code",
   "execution_count": 11,
   "metadata": {},
   "outputs": [],
   "source": [
    "knn = KNeighborsClassifier(algorithm='ball_tree', leaf_size= 1, metric='manhattan', n_neighbors=6, weights='uniform')\n",
    "knn.fit(X_train_2, y_train)\n",
    "\n",
    "y_pred_2 = knn.predict(X_test)"
   ]
  },
  {
   "cell_type": "code",
   "execution_count": 12,
   "metadata": {},
   "outputs": [
    {
     "name": "stdout",
     "output_type": "stream",
     "text": [
      "Número original de atributos: 30\n",
      "Número reduzido de atributos: 1\n"
     ]
    }
   ],
   "source": [
    "pca = PCA(n_components=0.95, whiten=True)\n",
    "\n",
    "data_pca = pca.fit_transform(data_2)\n",
    "\n",
    "print('Número original de atributos:', data_2.shape[1])\n",
    "print('Número reduzido de atributos:', data_pca.shape[1])"
   ]
  },
  {
   "cell_type": "code",
   "execution_count": 13,
   "metadata": {},
   "outputs": [
    {
     "name": "stdout",
     "output_type": "stream",
     "text": [
      "Acurácia nos dados originais: 0.9787234042553191\n",
      "Acurácia nos dados reduzidos (PCA em tudo): 0.9787234042553191\n",
      "Acurácia nos dados originais (PCA da parte certa): 0.9468085106382979\n"
     ]
    }
   ],
   "source": [
    "X_train_2, X_test_2, y_train_2, y_test_2 = train_test_split(data_pca, target_2, test_size=0.33, random_state=42, shuffle = True)\n",
    "\n",
    "model = LogisticRegression(solver='lbfgs', multi_class='multinomial', max_iter=2000)\n",
    "\n",
    "model.fit(X_train_2, y_train_2)\n",
    "y_pred_2 = model.predict(X_test_2)\n",
    "\n",
    "print('Acurácia nos dados originais:', accuracy_score(y_test, y_pred))\n",
    "\n",
    "#######\n",
    "\n",
    "X_train_2, X_test_2, y_train_2, y_test_2 = train_test_split(data_pca, target_2, test_size=0.33, random_state=42, shuffle = True)\n",
    "\n",
    "model = LogisticRegression(solver='lbfgs', multi_class='multinomial', max_iter=2000)\n",
    "\n",
    "model.fit(X_train_2, y_train_2)\n",
    "y_pred_2 = model.predict(X_test_2)\n",
    "\n",
    "print('Acurácia nos dados reduzidos (PCA em tudo):', accuracy_score(y_test, y_pred))\n",
    "\n",
    "#######\n",
    "\n",
    "X_train_2, X_test_2, y_train_2, y_test_2 = train_test_split(data_pca, target_2, test_size=0.33, random_state=42, shuffle = True)\n",
    "\n",
    "\n",
    "pca = PCA(n_components=0.95, whiten=True)\n",
    "X_train_2 = pca.fit_transform(X_train_2)\n",
    "X_test_2 = pca.transform(X_test_2)\n",
    "\n",
    "model = LogisticRegression(solver='lbfgs', multi_class='multinomial', max_iter=2000)\n",
    "\n",
    "model.fit(X_train_2, y_train_2)\n",
    "y_pred_2 = model.predict(X_test_2)\n",
    "\n",
    "print('Acurácia nos dados originais (PCA da parte certa):', accuracy_score(y_test_2, y_pred_2))"
   ]
  },
  {
   "cell_type": "code",
   "execution_count": 14,
   "metadata": {},
   "outputs": [
    {
     "name": "stdout",
     "output_type": "stream",
     "text": [
      "[[ 58   9]\n",
      " [  1 120]]\n",
      "---\n",
      "VP: 120\n",
      "FP: 9\n",
      "VN: 58\n",
      "FN: 1\n"
     ]
    }
   ],
   "source": [
    "# calculando a matriz utilizando scikit-learn\n",
    "from sklearn.metrics import confusion_matrix\n",
    "print(confusion_matrix(y_test_2, y_pred_2))\n",
    "\n",
    "print('---')\n",
    "\n",
    "# obtendo os resultados com scikit-learn\n",
    "vn, fp, fn, vp = confusion_matrix(y_test_2, y_pred_2).ravel()\n",
    "print('VP:', vp)\n",
    "print('FP:', fp)\n",
    "print('VN:', vn)\n",
    "print('FN:', fn)"
   ]
  },
  {
   "cell_type": "code",
   "execution_count": 15,
   "metadata": {},
   "outputs": [
    {
     "name": "stdout",
     "output_type": "stream",
     "text": [
      "ACC=  0.9468085106382979\n",
      "P=  0.9302325581395349\n",
      "R PCA=  0.9917355371900827\n",
      "F=  0.96\n"
     ]
    }
   ],
   "source": [
    "#Calculando pós PCA:  Acuracidade, Precisão, recall e f-1 score\n",
    "\n",
    "def Resultados_PCA (VP, FP, VN, FN):\n",
    "    ACC = (VP+VN) / (VP+FP+VN+FN)\n",
    "    P = VP/(VP+FP)\n",
    "    R = VP/(VP+FN)\n",
    "    F = 2*(P*R/(P+R))\n",
    "    \n",
    "    print('ACC= ',ACC)\n",
    "    print('P= ',P)\n",
    "    print('R PCA= ',R)\n",
    "    print('F= ',F)\n",
    "    \n",
    "Resultados_PCA(vp,fp,vn,fn)"
   ]
  },
  {
   "cell_type": "markdown",
   "metadata": {},
   "source": [
    "### Recall com dados ajustados com PCA = 0.991735"
   ]
  },
  {
   "cell_type": "markdown",
   "metadata": {},
   "source": [
    "## APLICAÇÃO SELEÇÃO DE ATRIBUTOS"
   ]
  },
  {
   "cell_type": "code",
   "execution_count": 16,
   "metadata": {},
   "outputs": [],
   "source": [
    "bc_atrib = load_breast_cancer()\n",
    "\n",
    "data_3 = bc_pca.data\n",
    "target_3 = bc_pca.target"
   ]
  },
  {
   "cell_type": "code",
   "execution_count": 17,
   "metadata": {},
   "outputs": [],
   "source": [
    "X_train_3, X_test_3, y_train_3, y_test_3 = train_test_split(data_3, target_3, test_size=0.33, random_state=42, shuffle = True)"
   ]
  },
  {
   "cell_type": "code",
   "execution_count": 18,
   "metadata": {},
   "outputs": [],
   "source": [
    "knn = KNeighborsClassifier(algorithm='ball_tree', leaf_size= 1, metric='manhattan', n_neighbors=6, weights='uniform')\n",
    "knn.fit(X_train_3, y_train_3)\n",
    "\n",
    "y_pred_3 = knn.predict(X_test_3)"
   ]
  },
  {
   "cell_type": "code",
   "execution_count": 19,
   "metadata": {},
   "outputs": [
    {
     "data": {
      "image/png": "[encoded data removed]",
      "text/plain": [
       "<Figure size 432x288 with 1 Axes>"
      ]
     },
     "metadata": {
      "needs_background": "light"
     },
     "output_type": "display_data"
    }
   ],
   "source": [
    "#Procurando melhor valor p/K\n",
    "\n",
    "k_hist = []\n",
    "acc = []\n",
    "\n",
    "for k in range(1,30):\n",
    "    \n",
    "    X_train_3, X_test_3, y_train_3, y_test_3 = train_test_split(data_3, target_3, test_size=0.33, random_state=42, shuffle = True)\n",
    "\n",
    "    fvalue_selector = SelectKBest(f_classif, k=k)\n",
    "    data_kbest = fvalue_selector.fit_transform(X_train_3, y_train_3)\n",
    "\n",
    "    model_3 = LogisticRegression(solver='lbfgs', multi_class='multinomial', max_iter=2000)\n",
    "    model_3.fit(data_kbest, y_train_3)\n",
    "    data_test_kbest = fvalue_selector.transform(X_test_3)\n",
    "    y_pred_3 = model_3.predict(data_test_kbest)\n",
    "    \n",
    "    k_hist.append(k)\n",
    "    acc.append(accuracy_score(y_test_3, y_pred_3))\n",
    "    \n",
    "ax = sns.lineplot(x=np.array(k_hist), y=np.array(acc))"
   ]
  },
  {
   "cell_type": "code",
   "execution_count": 30,
   "metadata": {},
   "outputs": [
    {
     "name": "stdout",
     "output_type": "stream",
     "text": [
      "Número original de atributos: 30\n",
      "Número reduzido de atributos: 20\n",
      "Acurácia nos dados originais: 0.973404255319149\n",
      "Acurácia nos dados Kbest: 0.973404255319149\n"
     ]
    }
   ],
   "source": [
    "#Seleção de Atributos\n",
    "\n",
    "X_train_3, X_test_3, y_train_3, y_test_3 = train_test_split(data_3, target_3, test_size=0.33, random_state=42, shuffle = True)\n",
    "\n",
    "fvalue_selector = SelectKBest(f_classif, k=20)\n",
    "data_kbest = fvalue_selector.fit_transform(X_train_3, y_train_3)\n",
    "\n",
    "print('Número original de atributos:', data_3.shape[1])\n",
    "print('Número reduzido de atributos:', data_kbest.shape[1])\n",
    "\n",
    "###\n",
    "\n",
    "model_3 = LogisticRegression(solver='lbfgs', multi_class='multinomial', max_iter=2000)\n",
    "model_3.fit(X_train_3, y_train_3)\n",
    "y_pred_3 = model_3.predict(X_test_3)\n",
    "print('Acurácia nos dados originais:', accuracy_score(y_test, y_pred))\n",
    "\n",
    "model = LogisticRegression(solver='lbfgs', multi_class='multinomial', max_iter=2000)\n",
    "model.fit(data_kbest, y_train_3)\n",
    "data_test_kbest = fvalue_selector.transform(X_test_3)\n",
    "y_pred_3 = model.predict(data_test_kbest)\n",
    "print('Acurácia nos dados Kbest:', accuracy_score(y_test_3, y_pred_3))"
   ]
  },
  {
   "cell_type": "code",
   "execution_count": 31,
   "metadata": {},
   "outputs": [
    {
     "name": "stdout",
     "output_type": "stream",
     "text": [
      "[[ 65   2]\n",
      " [  3 118]]\n",
      "---\n",
      "VP: 118\n",
      "FP: 2\n",
      "VN: 65\n",
      "FN: 3\n"
     ]
    }
   ],
   "source": [
    "# calculando a matriz utilizando scikit-learn\n",
    "from sklearn.metrics import confusion_matrix\n",
    "print(confusion_matrix(y_test_3, y_pred_3))\n",
    "\n",
    "print('---')\n",
    "\n",
    "# obtendo os resultados com scikit-learn\n",
    "vn, fp, fn, vp = confusion_matrix(y_test_3, y_pred_3).ravel()\n",
    "print('VP:', vp)\n",
    "print('FP:', fp)\n",
    "print('VN:', vn)\n",
    "print('FN:', fn)"
   ]
  },
  {
   "cell_type": "code",
   "execution_count": 32,
   "metadata": {},
   "outputs": [
    {
     "name": "stdout",
     "output_type": "stream",
     "text": [
      "ACC=  0.973404255319149\n",
      "P=  0.9833333333333333\n",
      "R atributos=  0.9752066115702479\n",
      "F=  0.979253112033195\n"
     ]
    }
   ],
   "source": [
    "#Calculando pós selecão de atributos:  Acuracidade, Precisão, recall e f-1 score\n",
    "\n",
    "def Resultados_Atributos (VP, FP, VN, FN):\n",
    "    ACC = (VP+VN) / (VP+FP+VN+FN)\n",
    "    P = VP/(VP+FP)\n",
    "    R = VP/(VP+FN)\n",
    "    F = 2*(P*R/(P+R))\n",
    "    \n",
    "    print('ACC= ',ACC)\n",
    "    print('P= ',P)\n",
    "    print('R atributos= ',R)\n",
    "    print('F= ',F)\n",
    "    \n",
    "Resultados_Atributos(vp,fp,vn,fn)"
   ]
  },
  {
   "cell_type": "markdown",
   "metadata": {},
   "source": [
    "## PLOTANDO ROC"
   ]
  },
  {
   "cell_type": "code",
   "execution_count": 23,
   "metadata": {},
   "outputs": [],
   "source": [
    "prob_6 = []\n",
    "prob_6_pca = []\n",
    "prob_9 = []\n",
    "\n",
    "prob_6 = knn.fit(X_train, y_train)\n",
    "prob_6 = knn.predict_proba(X_test)\n",
    "\n",
    "prob_6_pca = model.fit(X_train_2, y_train_2)\n",
    "prob_6_pca = model.predict_proba(X_test_2)\n",
    "    \n",
    "prob_9 = model_3.fit(X_train_3, y_train_3)\n",
    "prob_9 = model_3.predict_proba(X_test_3)"
   ]
  },
  {
   "cell_type": "code",
   "execution_count": 24,
   "metadata": {},
   "outputs": [
    {
     "data": {
      "image/png": "[encoded data removed]",
      "text/plain": [
       "<Figure size 432x288 with 1 Axes>"
      ]
     },
     "metadata": {
      "needs_background": "light"
     },
     "output_type": "display_data"
    }
   ],
   "source": [
    "#Plotando novo ROC\n",
    "\n",
    "#Plotando gráfico com os valores de K = [6 para dados originais, 6 para PCA e 9 para seleção de atributos]\n",
    "\n",
    "fpr_6, tpr_6, thresholds_6 = roc_curve(y_test[:], prob_6[:,1])\n",
    "roc_auc = auc(fpr_6, tpr_6)\n",
    "\n",
    "fpr_6_pca, tpr_6_pca, thresholds_6_pca = roc_curve(y_test_2[:], prob_6[:,1])\n",
    "roc_auc_6_pca = auc(fpr_6_pca, tpr_6_pca)\n",
    "\n",
    "fpr_9, tpr_9, thresholds_9 = roc_curve(y_test_3[:], prob_9[:,1])\n",
    "roc_auc_9 = auc(fpr_9, tpr_9)\n",
    "\n",
    "plt.plot([0, 1], [0, 1], '-.', color=(0.6, 0.6, 0.6), label='Aleatório')\n",
    "\n",
    "\n",
    "plt.plot(fpr_6, tpr_6, lw=1, label='ROC Orig (area = %0.4f)' % roc_auc, color='green')\n",
    "plt.plot(fpr_6_pca, tpr_6_pca, lw=1, label='ROC PCA (area = %0.4f)' % roc_auc_6_pca, color='red')\n",
    "plt.plot(fpr_9, tpr_9, lw=1, label='ROC Sel Atrib (area = %0.4f)' % roc_auc_9, color='blue')\n",
    "\n",
    "plt.xlim([-0.05, 1.05])\n",
    "plt.ylim([-0.05, 1.05])\n",
    "plt.xlabel('Falsos Positivos')\n",
    "plt.ylabel('Positivos Verdadeiros')\n",
    "plt.title('ROC de cada modelo')\n",
    "plt.legend(loc=\"lower right\")\n",
    "plt.show()"
   ]
  },
  {
   "cell_type": "code",
   "execution_count": 25,
   "metadata": {},
   "outputs": [
    {
     "data": {
      "text/plain": [
       "<matplotlib.axes._subplots.AxesSubplot at 0x14f6709d848>"
      ]
     },
     "execution_count": 25,
     "metadata": {},
     "output_type": "execute_result"
    },
    {
     "data": {
      "image/png": "[encoded data removed]",
      "text/plain": [
       "<Figure size 432x288 with 1 Axes>"
      ]
     },
     "metadata": {
      "needs_background": "light"
     },
     "output_type": "display_data"
    }
   ],
   "source": [
    "sns.distplot(y_train, bins=1, kde_kws={\"color\": \"g\", \"lw\": 5, \"label\": \"Treino\"})\n",
    "sns.distplot(y_pred, bins=1, kde_kws={\"color\": \"blue\", \"lw\": 1, \"label\": \"Original 97.87 %\"})\n",
    "sns.distplot(y_pred_2, bins=1, kde_kws={\"color\": \"yellow\", \"lw\": 1, \"label\": \"PCA 94.68 %\"})\n",
    "sns.distplot(y_pred_3, bins=1, kde_kws={\"color\": \"brown\", \"lw\": 1, \"label\": \"Atributos 97.34 %\"})"
   ]
  },
  {
   "cell_type": "markdown",
   "metadata": {},
   "source": [
    "## Comparando modelo MCNEMMAR"
   ]
  },
  {
   "cell_type": "code",
   "execution_count": 26,
   "metadata": {},
   "outputs": [],
   "source": [
    "def build_contingence_table(target, Y_pred, Y_pred_2):\n",
    "    y1_and_y2 = 0\n",
    "    y1_and_not_y2 = 0\n",
    "    y2_and_not_y1 = 0\n",
    "    not_y1_and_not_y2 = 0\n",
    "    for y, y1, y2 in zip(target, Y_pred, Y_pred_2):\n",
    "        if y == y1 == y2:\n",
    "            y1_and_y2 += 1\n",
    "        elif y != y1 and y != y2:\n",
    "            not_y1_and_not_y2 += 1\n",
    "        elif y == y1 and y != y2:\n",
    "            y1_and_not_y2 += 1\n",
    "        elif y != y1 and y == y2:\n",
    "            y2_and_not_y1 += 1\n",
    "            \n",
    "    contingency_table = [[y1_and_y2, y1_and_not_y2], \n",
    "                         [y2_and_not_y1, not_y1_and_not_y2]]\n",
    "    \n",
    "    return contingency_table"
   ]
  },
  {
   "cell_type": "code",
   "execution_count": 27,
   "metadata": {},
   "outputs": [
    {
     "name": "stdout",
     "output_type": "stream",
     "text": [
      "[[175, 9], [3, 1]]\n"
     ]
    }
   ],
   "source": [
    "contingence_table = build_contingence_table(y_test, y_pred, y_pred_2)\n",
    "\n",
    "import pprint\n",
    "\n",
    "pprint.pprint(contingence_table)"
   ]
  },
  {
   "cell_type": "code",
   "execution_count": 28,
   "metadata": {},
   "outputs": [
    {
     "name": "stdout",
     "output_type": "stream",
     "text": [
      "statistic=3.000, p-value=0.146\n",
      "Mesma proporção de erros (aceito H0, portanto não é possível afirmar que modelo original e PCA são estatisticamente diferentes)\n"
     ]
    }
   ],
   "source": [
    "result = mcnemar(contingence_table, exact=True)\n",
    "    \n",
    "    \n",
    "if result.pvalue >= 0.001:\n",
    "    print('statistic=%.3f, p-value=%.3f' % (result.statistic, result.pvalue))\n",
    "else:\n",
    "    print('statistic=%.3f, p-value=%.3e' % (result.statistic, result.pvalue))\n",
    "\n",
    "# interpretando o p-value\n",
    "alpha = 0.05\n",
    "if result.pvalue > alpha:\n",
    "    print('Mesma proporção de erros (aceito H0, portanto não é possível afirmar que modelo original e PCA são estatisticamente diferentes)')\n",
    "else:\n",
    "    print('Proporções de erros diferentes (rejeitou H0)')"
   ]
  },
  {
   "cell_type": "code",
   "execution_count": 29,
   "metadata": {},
   "outputs": [
    {
     "name": "stdout",
     "output_type": "stream",
     "text": [
      "statistic=10.000, p-value=0.008\n",
      "Knn 2 VS Knn 3\n",
      "Proporções de erros diferentes (rejeitou H0)\n",
      "statistic=10.000, p-value=0.008\n",
      "Knn 2 VS Knn 4\n",
      "Proporções de erros diferentes (rejeitou H0)\n",
      "statistic=10.000, p-value=0.008\n",
      "Knn 2 VS Knn 5\n",
      "Proporções de erros diferentes (rejeitou H0)\n",
      "statistic=10.000, p-value=0.008\n",
      "Knn 2 VS Knn 6\n",
      "Proporções de erros diferentes (rejeitou H0)\n",
      "statistic=10.000, p-value=0.008\n",
      "Knn 2 VS Knn 7\n",
      "Proporções de erros diferentes (rejeitou H0)\n",
      "statistic=10.000, p-value=0.008\n",
      "Knn 2 VS Knn 8\n",
      "Proporções de erros diferentes (rejeitou H0)\n",
      "statistic=10.000, p-value=0.008\n",
      "Knn 2 VS Knn 9\n",
      "Proporções de erros diferentes (rejeitou H0)\n",
      "statistic=10.000, p-value=0.008\n",
      "Knn 2 VS Knn 10\n",
      "Proporções de erros diferentes (rejeitou H0)\n",
      "statistic=9.000, p-value=0.824\n",
      "Knn 3 VS Knn 4\n",
      "Mesma proporção de erros (falhou em rejeitar H0)\n",
      "statistic=9.000, p-value=0.824\n",
      "Knn 3 VS Knn 5\n",
      "Mesma proporção de erros (falhou em rejeitar H0)\n",
      "statistic=9.000, p-value=0.824\n",
      "Knn 3 VS Knn 6\n",
      "Mesma proporção de erros (falhou em rejeitar H0)\n",
      "statistic=9.000, p-value=0.824\n",
      "Knn 3 VS Knn 7\n",
      "Mesma proporção de erros (falhou em rejeitar H0)\n",
      "statistic=9.000, p-value=0.824\n",
      "Knn 3 VS Knn 8\n",
      "Mesma proporção de erros (falhou em rejeitar H0)\n",
      "statistic=9.000, p-value=0.824\n",
      "Knn 3 VS Knn 9\n",
      "Mesma proporção de erros (falhou em rejeitar H0)\n",
      "statistic=9.000, p-value=0.824\n",
      "Knn 3 VS Knn 10\n",
      "Mesma proporção de erros (falhou em rejeitar H0)\n",
      "statistic=7.000, p-value=0.629\n",
      "Knn 4 VS Knn 5\n",
      "Mesma proporção de erros (falhou em rejeitar H0)\n",
      "statistic=7.000, p-value=0.629\n",
      "Knn 4 VS Knn 6\n",
      "Mesma proporção de erros (falhou em rejeitar H0)\n",
      "statistic=7.000, p-value=0.629\n",
      "Knn 4 VS Knn 7\n",
      "Mesma proporção de erros (falhou em rejeitar H0)\n",
      "statistic=7.000, p-value=0.629\n",
      "Knn 4 VS Knn 8\n",
      "Mesma proporção de erros (falhou em rejeitar H0)\n",
      "statistic=7.000, p-value=0.629\n",
      "Knn 4 VS Knn 9\n",
      "Mesma proporção de erros (falhou em rejeitar H0)\n",
      "statistic=7.000, p-value=0.629\n",
      "Knn 4 VS Knn 10\n",
      "Mesma proporção de erros (falhou em rejeitar H0)\n",
      "statistic=8.000, p-value=0.815\n",
      "Knn 5 VS Knn 6\n",
      "Mesma proporção de erros (falhou em rejeitar H0)\n",
      "statistic=8.000, p-value=0.815\n",
      "Knn 5 VS Knn 7\n",
      "Mesma proporção de erros (falhou em rejeitar H0)\n",
      "statistic=8.000, p-value=0.815\n",
      "Knn 5 VS Knn 8\n",
      "Mesma proporção de erros (falhou em rejeitar H0)\n",
      "statistic=8.000, p-value=0.815\n",
      "Knn 5 VS Knn 9\n",
      "Mesma proporção de erros (falhou em rejeitar H0)\n",
      "statistic=8.000, p-value=0.815\n",
      "Knn 5 VS Knn 10\n",
      "Mesma proporção de erros (falhou em rejeitar H0)\n",
      "statistic=4.000, p-value=0.180\n",
      "Knn 6 VS Knn 7\n",
      "Mesma proporção de erros (falhou em rejeitar H0)\n",
      "statistic=4.000, p-value=0.180\n",
      "Knn 6 VS Knn 8\n",
      "Mesma proporção de erros (falhou em rejeitar H0)\n",
      "statistic=4.000, p-value=0.180\n",
      "Knn 6 VS Knn 9\n",
      "Mesma proporção de erros (falhou em rejeitar H0)\n",
      "statistic=4.000, p-value=0.180\n",
      "Knn 6 VS Knn 10\n",
      "Mesma proporção de erros (falhou em rejeitar H0)\n",
      "statistic=2.000, p-value=0.065\n",
      "Knn 7 VS Knn 8\n",
      "Mesma proporção de erros (falhou em rejeitar H0)\n",
      "statistic=2.000, p-value=0.065\n",
      "Knn 7 VS Knn 9\n",
      "Mesma proporção de erros (falhou em rejeitar H0)\n",
      "statistic=2.000, p-value=0.065\n",
      "Knn 7 VS Knn 10\n",
      "Mesma proporção de erros (falhou em rejeitar H0)\n",
      "statistic=2.000, p-value=0.004\n",
      "Knn 8 VS Knn 9\n",
      "Proporções de erros diferentes (rejeitou H0)\n",
      "statistic=2.000, p-value=0.004\n",
      "Knn 8 VS Knn 10\n",
      "Proporções de erros diferentes (rejeitou H0)\n",
      "statistic=3.000, p-value=0.057\n",
      "Knn 9 VS Knn 10\n",
      "Mesma proporção de erros (falhou em rejeitar H0)\n"
     ]
    }
   ],
   "source": [
    "for i in range(2,11):\n",
    "    for y in range((i+1),11):\n",
    "        knn = KNeighborsClassifier(n_neighbors=i)\n",
    "        knn.fit(X_train, y_train)\n",
    "        y_pred = knn.predict(X_test)\n",
    "    \n",
    "        model = KNeighborsClassifier(n_neighbors=i)\n",
    "        model.fit(X_train_2, y_train_2)\n",
    "        y_pred_2 = model.predict(X_test_2)\n",
    "        \n",
    "        contingence_table = build_contingence_table(y_test, y_pred, y_pred_2)\n",
    "        \n",
    "        result = mcnemar(contingence_table, exact=True)\n",
    "    \n",
    "    \n",
    "        if result.pvalue >= 0.001:\n",
    "            print('statistic=%.3f, p-value=%.3f' % (result.statistic, result.pvalue))\n",
    "        else:\n",
    "            print('statistic=%.3f, p-value=%.3e' % (result.statistic, result.pvalue))\n",
    "\n",
    "        # interpretando o p-value\n",
    "        alpha = 0.05\n",
    "        if result.pvalue > alpha:\n",
    "            print('Knn', i, 'VS', 'Knn', y)\n",
    "            print('Mesma proporção de erros (falhou em rejeitar H0)')\n",
    "        else:\n",
    "            print('Knn', i, 'VS', 'Knn', y)\n",
    "            print('Proporções de erros diferentes (rejeitou H0)')"
   ]
  }
 ],
 "metadata": {
  "kernelspec": {
   "display_name": "Python 3",
   "language": "python",
   "name": "python3"
  },
  "language_info": {
   "codemirror_mode": {
    "name": "ipython",
    "version": 3
   },
   "file_extension": ".py",
   "mimetype": "text/x-python",
   "name": "python",
   "nbconvert_exporter": "python",
   "pygments_lexer": "ipython3",
   "version": "3.7.6"
  }
 },
 "nbformat": 4,
 "nbformat_minor": 4
}
